{
 "cells": [
  {
   "cell_type": "code",
   "execution_count": null,
   "metadata": {},
   "outputs": [
    {
     "name": "stdout",
     "output_type": "stream",
     "text": [
      "find result: 6\n"
     ]
    }
   ],
   "source": [
    "# 实现二分查找\n",
    "def binary_search(nums, n):\n",
    "    low = 0\n",
    "    high = len(nums) - 1\n",
    "\n",
    "    while low <= high:\n",
    "        mid = int((low + high) / 2)\n",
    "\n",
    "        if nums[mid] == n:\n",
    "            return mid\n",
    "\n",
    "        if nums[mid] > n:  # mid too big, change high\n",
    "            high = mid - 1\n",
    "        else:  # mid too small, change low\n",
    "            low = mid + 1\n",
    "\n",
    "    return -1\n",
    "\n",
    "\n",
    "num_list = [1, 2, 5, 9, 12, 14, 18, 20, 23, 24, 30]\n",
    "find = 18\n",
    "\n",
    "result = binary_search(nums=num_list, n=find)\n",
    "\n",
    "print(\"find result: {result}\".format(result=result))\n"
   ]
  },
  {
   "cell_type": "code",
   "execution_count": null,
   "metadata": {},
   "outputs": [],
   "source": []
  }
 ],
 "metadata": {
  "kernelspec": {
   "display_name": "Python 3",
   "language": "python",
   "name": "python3"
  },
  "language_info": {
   "codemirror_mode": {
    "name": "ipython",
    "version": 3
   },
   "file_extension": ".py",
   "mimetype": "text/x-python",
   "name": "python",
   "nbconvert_exporter": "python",
   "pygments_lexer": "ipython3",
   "version": "3.6.3"
  }
 },
 "nbformat": 4,
 "nbformat_minor": 2
}
